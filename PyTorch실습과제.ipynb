{
  "nbformat": 4,
  "nbformat_minor": 0,
  "metadata": {
    "colab": {
      "provenance": [],
      "include_colab_link": true
    },
    "kernelspec": {
      "name": "python3",
      "display_name": "Python 3"
    },
    "language_info": {
      "name": "python"
    },
    "accelerator": "GPU"
  },
  "cells": [
    {
      "cell_type": "markdown",
      "metadata": {
        "id": "view-in-github",
        "colab_type": "text"
      },
      "source": [
        "<a href=\"https://colab.research.google.com/github/JS0206/Data_Analysys_Programming/blob/main/PyTorch%EC%8B%A4%EC%8A%B5%EA%B3%BC%EC%A0%9C.ipynb\" target=\"_parent\"><img src=\"https://colab.research.google.com/assets/colab-badge.svg\" alt=\"Open In Colab\"/></a>"
      ]
    },
    {
      "cell_type": "markdown",
      "metadata": {
        "id": "tbdp1rxdYMiC"
      },
      "source": [
        "# **인공지능 13주차 과제**<br/>\n",
        "\n",
        "- **실습 내용**<br/>: pytorch 라이브러리를 사용하여 ANN, CNN 모델 학습 및 예측 결과 확인<br/>\n",
        "  +) 아래 링크에서 pytorch Tutorial을 숙지한 후 실습을 진행하는 것을 권장<br>\n",
        "  **https://tutorials.pytorch.kr/beginner/pytorch_with_examples.html**\n",
        "\n",
        "- **질문 사항**<br/>: 이루리 질의응답 게시판 / 조교 이메일: tonywjs@kangwon.ac.kr\n",
        "\n"
      ]
    },
    {
      "cell_type": "markdown",
      "metadata": {
        "id": "UoQdbBKLYZxp"
      },
      "source": [
        "\n",
        "# **과제 0.**\n",
        "아래 코드 셀들을 실행하며 **Question**에 대한 풀이를 한글 파일에 작성하여 제출하시오."
      ]
    },
    {
      "cell_type": "code",
      "metadata": {
        "colab": {
          "base_uri": "https://localhost:8080/"
        },
        "id": "pg1Ag51pp3lO",
        "outputId": "e7791db9-f607-4943-c5df-439552a4840f"
      },
      "source": [
        "from google.colab import drive\n",
        "drive.mount('/content/drive')"
      ],
      "execution_count": 1,
      "outputs": [
        {
          "output_type": "stream",
          "name": "stdout",
          "text": [
            "Mounted at /content/drive\n"
          ]
        }
      ]
    },
    {
      "cell_type": "code",
      "metadata": {
        "colab": {
          "base_uri": "https://localhost:8080/"
        },
        "id": "deSMroW_PNA6",
        "outputId": "67e45a6b-b70f-4800-f6f4-4d345c8a2be0"
      },
      "source": [
        "!nvidia-smi"
      ],
      "execution_count": 2,
      "outputs": [
        {
          "output_type": "stream",
          "name": "stdout",
          "text": [
            "Thu Dec  7 08:55:51 2023       \n",
            "+-----------------------------------------------------------------------------+\n",
            "| NVIDIA-SMI 525.105.17   Driver Version: 525.105.17   CUDA Version: 12.0     |\n",
            "|-------------------------------+----------------------+----------------------+\n",
            "| GPU  Name        Persistence-M| Bus-Id        Disp.A | Volatile Uncorr. ECC |\n",
            "| Fan  Temp  Perf  Pwr:Usage/Cap|         Memory-Usage | GPU-Util  Compute M. |\n",
            "|                               |                      |               MIG M. |\n",
            "|===============================+======================+======================|\n",
            "|   0  Tesla T4            Off  | 00000000:00:04.0 Off |                    0 |\n",
            "| N/A   64C    P8    10W /  70W |      0MiB / 15360MiB |      0%      Default |\n",
            "|                               |                      |                  N/A |\n",
            "+-------------------------------+----------------------+----------------------+\n",
            "                                                                               \n",
            "+-----------------------------------------------------------------------------+\n",
            "| Processes:                                                                  |\n",
            "|  GPU   GI   CI        PID   Type   Process name                  GPU Memory |\n",
            "|        ID   ID                                                   Usage      |\n",
            "|=============================================================================|\n",
            "|  No running processes found                                                 |\n",
            "+-----------------------------------------------------------------------------+\n"
          ]
        }
      ]
    },
    {
      "cell_type": "markdown",
      "metadata": {
        "id": "tKBJGTMbowx4"
      },
      "source": [
        "### **라이브러리 import**\n",
        "데이터를 구축하고 신경망을 구성하는데 필요한 라이브러리들을 불러온다."
      ]
    },
    {
      "cell_type": "markdown",
      "metadata": {
        "id": "Qwq73D4blWcU"
      },
      "source": [
        "#### **Question.1**\n",
        "**numpy**, **pandas**, **matplotlib**, **torch** 각 라이브러리에 대하여 설명하시오."
      ]
    },
    {
      "cell_type": "markdown",
      "metadata": {
        "id": "GBQnTLlZm0mJ"
      },
      "source": [
        "#### **Question.2**\n",
        "**numpy**와 **tensor**의 차이를 설명하시오."
      ]
    },
    {
      "cell_type": "code",
      "metadata": {
        "id": "cm4suXq1M7UF"
      },
      "source": [
        "import numpy as np\n",
        "import pandas as pd\n",
        "import matplotlib.pyplot as plt\n",
        "\n",
        "import torch\n",
        "import torch.nn as nn\n",
        "from torch.autograd import Variable\n",
        "import torch.nn.functional as F\n",
        "\n",
        "from torchvision import datasets\n",
        "import torchvision.transforms as transforms\n",
        "from torch.utils.data import Dataset, DataLoader"
      ],
      "execution_count": 3,
      "outputs": []
    },
    {
      "cell_type": "markdown",
      "metadata": {
        "id": "Yz5AAT7LWGmJ"
      },
      "source": [
        "#### GPU 사용 가능 여부 확인\n",
        "\n",
        "+) CUDA(Compute Unified Device Architecture)<br/>\n",
        ": NVIDIA 사에서 개발한 GPU 개발 툴, GPU를 사용하여 많은 양의 연산을 동시에 처리할 수 있게 한다."
      ]
    },
    {
      "cell_type": "code",
      "metadata": {
        "colab": {
          "base_uri": "https://localhost:8080/"
        },
        "id": "tB0gZey6WRmF",
        "outputId": "df4abac5-bcda-4f65-9de3-3cd726fb5d35"
      },
      "source": [
        "torch.cuda.is_available()"
      ],
      "execution_count": 4,
      "outputs": [
        {
          "output_type": "execute_result",
          "data": {
            "text/plain": [
              "True"
            ]
          },
          "metadata": {},
          "execution_count": 4
        }
      ]
    },
    {
      "cell_type": "markdown",
      "metadata": {
        "id": "6MO_RK1hWXsO"
      },
      "source": [
        "#### 학습을 진행할 기기(cpu/gpu) 설정<br/>\n",
        "cuda 사용이 불가능하면 cpu로 연산 처리, 사용이 가능하면 gpu로 연산 처리"
      ]
    },
    {
      "cell_type": "code",
      "metadata": {
        "id": "UWwzILQhPxLL"
      },
      "source": [
        "device = torch.device(\"cuda:0\" if torch.cuda.is_available() else \"cpu\")"
      ],
      "execution_count": 5,
      "outputs": []
    },
    {
      "cell_type": "code",
      "metadata": {
        "colab": {
          "base_uri": "https://localhost:8080/"
        },
        "id": "gKD24ws2kE6a",
        "outputId": "5e0817ae-4654-43fb-a769-aa1dacabcecf"
      },
      "source": [
        "device"
      ],
      "execution_count": 6,
      "outputs": [
        {
          "output_type": "execute_result",
          "data": {
            "text/plain": [
              "device(type='cuda', index=0)"
            ]
          },
          "metadata": {},
          "execution_count": 6
        }
      ]
    },
    {
      "cell_type": "markdown",
      "metadata": {
        "id": "xcB66qGtWP8j"
      },
      "source": []
    },
    {
      "cell_type": "code",
      "metadata": {
        "id": "-25SulG3SGtF"
      },
      "source": [
        "transform = transforms.ToTensor()"
      ],
      "execution_count": 7,
      "outputs": []
    },
    {
      "cell_type": "markdown",
      "metadata": {
        "id": "8f1xOOMqnQVD"
      },
      "source": [
        "## MNIST 데이터셋 다운로드\n",
        "\n",
        "- MNIST Dataset:<br/>\n",
        "0부터 9까지의 숫자 이미지로 구성된 필기체 영상.<br/>\n",
        "하나의 이미지는 28 x 28(pixel) 크기로, 각 pixel은 0에서 255 사이의 값을 취함."
      ]
    },
    {
      "cell_type": "markdown",
      "metadata": {
        "id": "HC9Oaf2SncDu"
      },
      "source": [
        "#### **Question.3**\n",
        "Training에 사용하는 데이터 train_data와 Evaluating에 사용하는 데이터 test_data는 중복된 데이터를 가져서는 안된다. 그 이유를 서술하시오."
      ]
    },
    {
      "cell_type": "code",
      "metadata": {
        "id": "hsY4dJgNQZns",
        "colab": {
          "base_uri": "https://localhost:8080/"
        },
        "outputId": "1b40e2f8-0e9e-43d5-a7ff-1bfa8dcced82"
      },
      "source": [
        "train_data = datasets.MNIST(root='../data', train=True, download=True, transform=transform)\n",
        "test_data = datasets.MNIST(root='../data',train=False, download=True, transform=transform)"
      ],
      "execution_count": 8,
      "outputs": [
        {
          "output_type": "stream",
          "name": "stdout",
          "text": [
            "Downloading http://yann.lecun.com/exdb/mnist/train-images-idx3-ubyte.gz\n",
            "Downloading http://yann.lecun.com/exdb/mnist/train-images-idx3-ubyte.gz to ../data/MNIST/raw/train-images-idx3-ubyte.gz\n"
          ]
        },
        {
          "output_type": "stream",
          "name": "stderr",
          "text": [
            "100%|██████████| 9912422/9912422 [00:00<00:00, 133900093.54it/s]"
          ]
        },
        {
          "output_type": "stream",
          "name": "stdout",
          "text": [
            "Extracting ../data/MNIST/raw/train-images-idx3-ubyte.gz to ../data/MNIST/raw\n"
          ]
        },
        {
          "output_type": "stream",
          "name": "stderr",
          "text": [
            "\n"
          ]
        },
        {
          "output_type": "stream",
          "name": "stdout",
          "text": [
            "\n",
            "Downloading http://yann.lecun.com/exdb/mnist/train-labels-idx1-ubyte.gz\n",
            "Downloading http://yann.lecun.com/exdb/mnist/train-labels-idx1-ubyte.gz to ../data/MNIST/raw/train-labels-idx1-ubyte.gz\n"
          ]
        },
        {
          "output_type": "stream",
          "name": "stderr",
          "text": [
            "100%|██████████| 28881/28881 [00:00<00:00, 43715515.63it/s]\n"
          ]
        },
        {
          "output_type": "stream",
          "name": "stdout",
          "text": [
            "Extracting ../data/MNIST/raw/train-labels-idx1-ubyte.gz to ../data/MNIST/raw\n",
            "\n",
            "Downloading http://yann.lecun.com/exdb/mnist/t10k-images-idx3-ubyte.gz\n",
            "Downloading http://yann.lecun.com/exdb/mnist/t10k-images-idx3-ubyte.gz to ../data/MNIST/raw/t10k-images-idx3-ubyte.gz\n"
          ]
        },
        {
          "output_type": "stream",
          "name": "stderr",
          "text": [
            "100%|██████████| 1648877/1648877 [00:00<00:00, 37680567.71it/s]"
          ]
        },
        {
          "output_type": "stream",
          "name": "stdout",
          "text": [
            "Extracting ../data/MNIST/raw/t10k-images-idx3-ubyte.gz to ../data/MNIST/raw\n"
          ]
        },
        {
          "output_type": "stream",
          "name": "stderr",
          "text": [
            "\n"
          ]
        },
        {
          "output_type": "stream",
          "name": "stdout",
          "text": [
            "\n",
            "Downloading http://yann.lecun.com/exdb/mnist/t10k-labels-idx1-ubyte.gz\n",
            "Downloading http://yann.lecun.com/exdb/mnist/t10k-labels-idx1-ubyte.gz to ../data/MNIST/raw/t10k-labels-idx1-ubyte.gz\n"
          ]
        },
        {
          "output_type": "stream",
          "name": "stderr",
          "text": [
            "100%|██████████| 4542/4542 [00:00<00:00, 19927331.35it/s]\n"
          ]
        },
        {
          "output_type": "stream",
          "name": "stdout",
          "text": [
            "Extracting ../data/MNIST/raw/t10k-labels-idx1-ubyte.gz to ../data/MNIST/raw\n",
            "\n"
          ]
        }
      ]
    },
    {
      "cell_type": "markdown",
      "metadata": {
        "id": "PlooOyOhoZXm"
      },
      "source": [
        "train_data에는 각각 28x28 크기를 갖는 image와 정답값 label이 각각 들어있다."
      ]
    },
    {
      "cell_type": "code",
      "metadata": {
        "colab": {
          "base_uri": "https://localhost:8080/"
        },
        "id": "ozw-yJoyS5Mk",
        "outputId": "f4c90603-c5fe-42fe-e1ae-3b816d00257c"
      },
      "source": [
        "image, label = train_data[0]\n",
        "print(image.shape)\n",
        "print(label) # 5"
      ],
      "execution_count": 9,
      "outputs": [
        {
          "output_type": "stream",
          "name": "stdout",
          "text": [
            "torch.Size([1, 28, 28])\n",
            "5\n"
          ]
        }
      ]
    },
    {
      "cell_type": "markdown",
      "metadata": {
        "id": "bZysGnlxorF0"
      },
      "source": [
        "영상 출력 결과"
      ]
    },
    {
      "cell_type": "code",
      "metadata": {
        "colab": {
          "base_uri": "https://localhost:8080/",
          "height": 448
        },
        "id": "KAFphAaLTLFO",
        "outputId": "b60ef14b-3669-4cdd-aa68-0e2776302189"
      },
      "source": [
        "plt.imshow(image.reshape(28,28),cmap='gray')"
      ],
      "execution_count": 10,
      "outputs": [
        {
          "output_type": "execute_result",
          "data": {
            "text/plain": [
              "<matplotlib.image.AxesImage at 0x7c4089e2a0b0>"
            ]
          },
          "metadata": {},
          "execution_count": 10
        },
        {
          "output_type": "display_data",
          "data": {
            "text/plain": [
              "<Figure size 640x480 with 1 Axes>"
            ],
            "image/png": "[encoded data removed]"
          },
          "metadata": {}
        }
      ]
    },
    {
      "cell_type": "markdown",
      "metadata": {
        "id": "eOXAGOL7paRH"
      },
      "source": [
        "딥러닝 모델을 학습시킬 때, 데이터 전체를 불러오면 메모리의 한계와 속도 저하가 발생하게 되므로 데이터를 일정 수(iteration)로 나눠준다.<br/>\n",
        "이때 각 iteration마다 주어지는 데이터 개수를 batch size라고 한다.<br/>\n",
        "\n",
        "batch size에 따라 나눠진 데이터를 불러오는 것을 Dataloader에서 수행한다."
      ]
    },
    {
      "cell_type": "code",
      "metadata": {
        "id": "_ckrcc6UTO32"
      },
      "source": [
        "torch.manual_seed(101)\n",
        "\n",
        "train_loader = DataLoader(train_data, batch_size=100, shuffle=True)\n",
        "test_loader = DataLoader(test_data,batch_size=500, shuffle=False)"
      ],
      "execution_count": 11,
      "outputs": []
    },
    {
      "cell_type": "markdown",
      "metadata": {
        "id": "d7cyYs1Irvas"
      },
      "source": [
        "##ANN(Artificial Neural Network) 생성<br/>\n",
        "- input_size : 영상 크기(28*28)\n",
        "- output_size : label 수(0~9)\n",
        "- layers: 각 layer가 가진 hidden neuron 수에 대한 list"
      ]
    },
    {
      "cell_type": "code",
      "metadata": {
        "id": "uy2URghVTQWo"
      },
      "source": [
        "class ANN(nn.Module):\n",
        "  def __init__(self, input_size=784, output_size=10, layers=[128,128]):\n",
        "    super().__init__()\n",
        "    self.fc1 = nn.Linear(input_size,layers[0])\n",
        "    self.fc2 = nn.Linear(layers[0],layers[1])\n",
        "    self.fc3 = nn.Linear(layers[1],output_size)\n",
        "\n",
        "  def forward(self,X):\n",
        "    X = F.relu(self.fc1(X))\n",
        "    X = F.relu(self.fc2(X))\n",
        "    X = self.fc3(X)\n",
        "    return F.log_softmax(X, dim=1)"
      ],
      "execution_count": 97,
      "outputs": []
    },
    {
      "cell_type": "markdown",
      "metadata": {
        "id": "M_EleaRkuiYG"
      },
      "source": [
        "model architecture 출력"
      ]
    },
    {
      "cell_type": "code",
      "metadata": {
        "colab": {
          "base_uri": "https://localhost:8080/"
        },
        "id": "vQy7zUrgTbtK",
        "outputId": "ca2fdd61-df5f-49f8-950b-976383d010a9"
      },
      "source": [
        "torch.manual_seed(101)\n",
        "model = ANN()\n",
        "model"
      ],
      "execution_count": 98,
      "outputs": [
        {
          "output_type": "execute_result",
          "data": {
            "text/plain": [
              "ANN(\n",
              "  (fc1): Linear(in_features=784, out_features=128, bias=True)\n",
              "  (fc2): Linear(in_features=128, out_features=128, bias=True)\n",
              "  (fc3): Linear(in_features=128, out_features=10, bias=True)\n",
              ")"
            ]
          },
          "metadata": {},
          "execution_count": 98
        }
      ]
    },
    {
      "cell_type": "markdown",
      "metadata": {
        "id": "5yCJ-aMwtzkU"
      },
      "source": [
        "**CrossEntropyLoss**<br/>\n",
        ": 주로 Classification에 사용되는 loss function으로, 정답과 예측 결과 간의 차이를 줄이기 위한 entropy"
      ]
    },
    {
      "cell_type": "code",
      "metadata": {
        "id": "AbBohzRHVAgy"
      },
      "source": [
        "criterion = nn.CrossEntropyLoss()\n",
        "optimizer = torch.optim.Adam(model.parameters(), lr=0.0001)"
      ],
      "execution_count": 99,
      "outputs": []
    },
    {
      "cell_type": "markdown",
      "metadata": {
        "id": "vwWVzffitoKi"
      },
      "source": [
        "# 과제 1.\n",
        "ANN 내 각 layer의 hidden neuron, learning rate 등을 조정하고<br/>\n",
        "train 데이터를 10 epoch 학습시켜 **test accuracy를 95% 이상 달성하시오.**<br/>\n",
        "(※ train이 아닌 test의 accuracy를 달성시켜야 함.)\n"
      ]
    },
    {
      "cell_type": "markdown",
      "metadata": {
        "id": "tLG7iYzME3Ev"
      },
      "source": [
        "###Train ANN"
      ]
    },
    {
      "cell_type": "code",
      "metadata": {
        "colab": {
          "base_uri": "https://localhost:8080/"
        },
        "id": "lPATGCJOVCcG",
        "outputId": "461bbd76-2d48-4e67-c618-fd1f219ac581"
      },
      "source": [
        "import time\n",
        "start_time = time.time()\n",
        "\n",
        "epochs = 10\n",
        "\n",
        "#Trackers\n",
        "train_losses = []\n",
        "test_losses = []\n",
        "train_correct = []\n",
        "test_correct = []\n",
        "\n",
        "for i in range(epochs):\n",
        "  train_accuracy = 0\n",
        "  test_accuracy = 0\n",
        "\n",
        "  # Run the training\n",
        "  for b, (X_train, y_train) in enumerate(train_loader):\n",
        "    b+=1\n",
        "    # Apply the model\n",
        "    y_pred = model(X_train.view(100, -1))\n",
        "    loss = criterion(y_pred, y_train)\n",
        "\n",
        "    # Number of correct predictions\n",
        "    predicted = torch.max(y_pred.data, 1)[1]\n",
        "    batch_corr = (predicted == y_train).sum()\n",
        "    train_accuracy += batch_corr\n",
        "\n",
        "    # Updating parameters\n",
        "    optimizer.zero_grad()\n",
        "    loss.backward()\n",
        "    optimizer.step()\n",
        "\n",
        "    # Printing results\n",
        "    if b%200 == 0:\n",
        "        print(f'epoch: {i:2}  batch: {b:4} [{100*b:6}/60000]  loss: {loss.item():10.8f} \\\n",
        "         accuracy: {train_accuracy.item()*100/(100*b):7.3f}%')\n",
        "\n",
        "  # Update train loss and accuracy for the epoch\n",
        "  train_losses.append(loss.item())\n",
        "  train_correct.append(train_accuracy)\n",
        "\n",
        "  # Run the testing batches\n",
        "  with torch.no_grad():\n",
        "    for b, (X_test, y_test) in enumerate(test_loader):\n",
        "      # Apply the model\n",
        "      y_val = model(X_test.view(500, -1))  # Here we flatten X_test to (500,28*28)\n",
        "\n",
        "      # Number of correct predictions\n",
        "      predicted = torch.max(y_val.data, 1)[1]\n",
        "      test_accuracy += (predicted == y_test).sum()\n",
        "\n",
        "  # Update test loss and accuracy for the epoch\n",
        "  loss = criterion(y_val, y_test)\n",
        "  test_losses.append(loss.item())\n",
        "  test_correct.append(test_accuracy)\n",
        "\n",
        "print(f'\\nDuration: {time.time() - start_time:.0f} seconds') # print the time elapsed"
      ],
      "execution_count": 100,
      "outputs": [
        {
          "output_type": "stream",
          "name": "stdout",
          "text": [
            "epoch:  0  batch:  200 [ 20000/60000]  loss: 1.02581835          accuracy:  59.945%\n",
            "epoch:  0  batch:  400 [ 40000/60000]  loss: 0.66861486          accuracy:  72.220%\n",
            "epoch:  0  batch:  600 [ 60000/60000]  loss: 0.42999637          accuracy:  77.352%\n",
            "epoch:  1  batch:  200 [ 20000/60000]  loss: 0.39871913          accuracy:  89.360%\n",
            "epoch:  1  batch:  400 [ 40000/60000]  loss: 0.40699518          accuracy:  89.825%\n",
            "epoch:  1  batch:  600 [ 60000/60000]  loss: 0.24549218          accuracy:  90.190%\n",
            "epoch:  2  batch:  200 [ 20000/60000]  loss: 0.21900329          accuracy:  91.325%\n",
            "epoch:  2  batch:  400 [ 40000/60000]  loss: 0.27181768          accuracy:  91.528%\n",
            "epoch:  2  batch:  600 [ 60000/60000]  loss: 0.36725506          accuracy:  91.778%\n",
            "epoch:  3  batch:  200 [ 20000/60000]  loss: 0.25596362          accuracy:  92.310%\n",
            "epoch:  3  batch:  400 [ 40000/60000]  loss: 0.20602922          accuracy:  92.480%\n",
            "epoch:  3  batch:  600 [ 60000/60000]  loss: 0.23242946          accuracy:  92.637%\n",
            "epoch:  4  batch:  200 [ 20000/60000]  loss: 0.19326775          accuracy:  92.950%\n",
            "epoch:  4  batch:  400 [ 40000/60000]  loss: 0.21968611          accuracy:  93.153%\n",
            "epoch:  4  batch:  600 [ 60000/60000]  loss: 0.16286890          accuracy:  93.290%\n",
            "epoch:  5  batch:  200 [ 20000/60000]  loss: 0.09926528          accuracy:  93.830%\n",
            "epoch:  5  batch:  400 [ 40000/60000]  loss: 0.24429101          accuracy:  93.745%\n",
            "epoch:  5  batch:  600 [ 60000/60000]  loss: 0.15234795          accuracy:  93.913%\n",
            "epoch:  6  batch:  200 [ 20000/60000]  loss: 0.21804468          accuracy:  94.105%\n",
            "epoch:  6  batch:  400 [ 40000/60000]  loss: 0.13747101          accuracy:  94.278%\n",
            "epoch:  6  batch:  600 [ 60000/60000]  loss: 0.08192126          accuracy:  94.347%\n",
            "epoch:  7  batch:  200 [ 20000/60000]  loss: 0.14130454          accuracy:  94.760%\n",
            "epoch:  7  batch:  400 [ 40000/60000]  loss: 0.16763395          accuracy:  94.802%\n",
            "epoch:  7  batch:  600 [ 60000/60000]  loss: 0.17579806          accuracy:  94.827%\n",
            "epoch:  8  batch:  200 [ 20000/60000]  loss: 0.13334136          accuracy:  95.170%\n",
            "epoch:  8  batch:  400 [ 40000/60000]  loss: 0.10744651          accuracy:  95.168%\n",
            "epoch:  8  batch:  600 [ 60000/60000]  loss: 0.20741928          accuracy:  95.185%\n",
            "epoch:  9  batch:  200 [ 20000/60000]  loss: 0.12500362          accuracy:  95.220%\n",
            "epoch:  9  batch:  400 [ 40000/60000]  loss: 0.24766655          accuracy:  95.483%\n",
            "epoch:  9  batch:  600 [ 60000/60000]  loss: 0.11333062          accuracy:  95.502%\n",
            "\n",
            "Duration: 92 seconds\n"
          ]
        }
      ]
    },
    {
      "cell_type": "code",
      "metadata": {
        "colab": {
          "base_uri": "https://localhost:8080/",
          "height": 448
        },
        "id": "-SGAux4tWJ_B",
        "outputId": "bf20cf9b-d9dd-4dbf-82d4-26c5a02633cc"
      },
      "source": [
        "plt.plot(train_losses, label = 'Training Loss')\n",
        "plt.plot(test_losses, label = 'Test Loss')\n",
        "plt.legend()"
      ],
      "execution_count": 101,
      "outputs": [
        {
          "output_type": "execute_result",
          "data": {
            "text/plain": [
              "<matplotlib.legend.Legend at 0x7c4088c09b40>"
            ]
          },
          "metadata": {},
          "execution_count": 101
        },
        {
          "output_type": "display_data",
          "data": {
            "text/plain": [
              "<Figure size 640x480 with 1 Axes>"
            ],
            "image/png": "[encoded data removed]"
          },
          "metadata": {}
        }
      ]
    },
    {
      "cell_type": "markdown",
      "metadata": {
        "id": "YffcuiGAFDGf"
      },
      "source": [
        "###Test ANN"
      ]
    },
    {
      "cell_type": "code",
      "metadata": {
        "id": "LgaMYXhtWPId"
      },
      "source": [
        "test_load_all = DataLoader(test_data, batch_size=10000, shuffle=False)"
      ],
      "execution_count": 34,
      "outputs": []
    },
    {
      "cell_type": "code",
      "metadata": {
        "colab": {
          "base_uri": "https://localhost:8080/"
        },
        "id": "GtmMwc4ZWRYL",
        "outputId": "0c425db6-664c-4b51-8f6a-0c134d5c906e"
      },
      "source": [
        "with torch.no_grad():\n",
        "  accuracy = 0\n",
        "\n",
        "  for X_test, y_test in test_load_all:\n",
        "    y_val = model(X_test.view(len(X_test), -1)) # flatten X_test to (10000,28*28)\n",
        "    predicted = torch.max(y_val, 1)[1]\n",
        "    accuracy += (predicted == y_test).sum()\n",
        "print(f'Test accuracy: {accuracy.item()}/{len(test_data)} = {accuracy.item()*100/(len(test_data)):7.3f}%')"
      ],
      "execution_count": 35,
      "outputs": [
        {
          "output_type": "stream",
          "name": "stdout",
          "text": [
            "Test accuracy: 9766/10000 =  97.660%\n"
          ]
        }
      ]
    },
    {
      "cell_type": "markdown",
      "metadata": {
        "id": "ogTHDLNAcyi9"
      },
      "source": [
        "## CNN(Convolutional Neural Network)<br/>\n",
        ": 영상 데이터를 처리할 때 사용되며, Convolutional layer로 구성된 neural network<br/>\n",
        "<br/>\n",
        "\n",
        "#### **특성**<br/>\n",
        "영상을 flatten하지 않고 2차원 공간 정보를 유지하여 학습 및 예측<br/>\n",
        "=> 영상 내 패턴을 찾는데 용이하다.<br/>\n",
        "\n",
        "(참고) http://taewan.kim/post/cnn/"
      ]
    },
    {
      "cell_type": "code",
      "metadata": {
        "id": "8ES4lZ1xXZV4"
      },
      "source": [
        "class CNN(nn.Module):\n",
        "  def __init__(self):\n",
        "    super().__init__()\n",
        "    self.conv1 = nn.Conv2d(in_channels=1, out_channels=6, kernel_size=3, stride=1) # 1 input channel (grayscale img), 6 image filters,kernel 3(3x3 filter), stride 1\n",
        "    self.conv2 = nn.Conv2d(6, 16, 3, 1)\n",
        "    self.fc1 = nn.Linear(5*5*16, 120)\n",
        "    self.fc2 = nn.Linear(120, 84)\n",
        "    self.fc3 = nn.Linear(84, 10)\n",
        "\n",
        "  def forward(self, X):\n",
        "    X = F.relu(self.conv1(X))\n",
        "    X = F.max_pool2d(X, 2, 2)\n",
        "    X = F.relu(self.conv2(X))\n",
        "    X = F.max_pool2d(X, 2, 2)\n",
        "    X = X.view(-1, 16*5*5)\n",
        "    X = F.relu(self.fc1(X))\n",
        "    X = F.relu(self.fc2(X))\n",
        "    X = self.fc3(X)\n",
        "    return F.log_softmax(X,dim=1)"
      ],
      "execution_count": 41,
      "outputs": []
    },
    {
      "cell_type": "code",
      "metadata": {
        "colab": {
          "base_uri": "https://localhost:8080/"
        },
        "id": "wIa0SIn_XaDz",
        "outputId": "ccf4bb71-9d97-4827-b138-0901c0d891a3"
      },
      "source": [
        "torch.manual_seed(42)\n",
        "model = CNN()\n",
        "model"
      ],
      "execution_count": 42,
      "outputs": [
        {
          "output_type": "execute_result",
          "data": {
            "text/plain": [
              "CNN(\n",
              "  (conv1): Conv2d(1, 6, kernel_size=(3, 3), stride=(1, 1))\n",
              "  (conv2): Conv2d(6, 16, kernel_size=(3, 3), stride=(1, 1))\n",
              "  (fc1): Linear(in_features=400, out_features=120, bias=True)\n",
              "  (fc2): Linear(in_features=120, out_features=84, bias=True)\n",
              "  (fc3): Linear(in_features=84, out_features=10, bias=True)\n",
              ")"
            ]
          },
          "metadata": {},
          "execution_count": 42
        }
      ]
    },
    {
      "cell_type": "code",
      "metadata": {
        "id": "kd6vvzkcXe5B"
      },
      "source": [
        "criterion = nn.CrossEntropyLoss()\n",
        "optimizer = torch.optim.Adam(model.parameters(), lr=0.001)"
      ],
      "execution_count": 43,
      "outputs": []
    },
    {
      "cell_type": "markdown",
      "metadata": {
        "id": "MxI2yOdEFLL6"
      },
      "source": [
        "###Train CNN"
      ]
    },
    {
      "cell_type": "code",
      "metadata": {
        "colab": {
          "base_uri": "https://localhost:8080/"
        },
        "id": "c67Mgo2HXhNc",
        "outputId": "ad364d13-9fad-4518-f40d-5c80cec7e1f0"
      },
      "source": [
        "import time\n",
        "start_time = time.time()\n",
        "\n",
        "epochs = 8\n",
        "\n",
        "# Trackers\n",
        "train_losses = []\n",
        "test_losses = []\n",
        "train_correct = []\n",
        "test_correct = []\n",
        "\n",
        "for i in range(epochs):\n",
        "  train_accuracy = 0\n",
        "  test_accuracy = 0\n",
        "\n",
        "  # Run the training batches\n",
        "  for b, (X_train, y_train) in enumerate(train_loader):\n",
        "    b+=1\n",
        "\n",
        "    # Apply the model\n",
        "    y_pred = model(X_train)  # we don't flatten X_train here\n",
        "    loss = criterion(y_pred, y_train)\n",
        "\n",
        "    # Number of correct predictions\n",
        "    predicted = torch.max(y_pred.data, 1)[1]\n",
        "    batch_corr = (predicted == y_train).sum()\n",
        "    train_accuracy += batch_corr\n",
        "\n",
        "    # Update parameters\n",
        "    optimizer.zero_grad()\n",
        "    loss.backward()\n",
        "    optimizer.step()\n",
        "\n",
        "    # Printing results\n",
        "    if b%600 == 0:\n",
        "      print(f'epoch: {i:2}  batch: {b:4} [{10*b:6}/60000]  loss: {loss.item():10.8f}  \\\n",
        "accuracy: {train_accuracy.item()*100/(100*b):7.3f}%')\n",
        "\n",
        "  # Update train loss and accuracy for the epoch\n",
        "  train_losses.append(loss.item())\n",
        "  train_correct.append(train_accuracy)\n",
        "\n",
        "  # Run the testing batches\n",
        "  with torch.no_grad():\n",
        "    for b, (X_test, y_test) in enumerate(test_loader):\n",
        "      # Apply the model\n",
        "      y_val = model(X_test)\n",
        "\n",
        "      # Number of correct predictions\n",
        "      predicted = torch.max(y_val.data, 1)[1]\n",
        "      test_accuracy += (predicted == y_test).sum()\n",
        "\n",
        "  # Update test loss and accuracy for the epoch\n",
        "  loss = criterion(y_val, y_test)\n",
        "  test_losses.append(loss.item())\n",
        "  test_correct.append(test_accuracy)\n",
        "\n",
        "print(f'\\nDuration: {time.time() - start_time:.0f} seconds') # print the time elapsed\n"
      ],
      "execution_count": 44,
      "outputs": [
        {
          "output_type": "stream",
          "name": "stdout",
          "text": [
            "epoch:  0  batch:  600 [  6000/60000]  loss: 0.27353704  accuracy:  87.660%\n",
            "epoch:  1  batch:  600 [  6000/60000]  loss: 0.14051913  accuracy:  96.458%\n",
            "epoch:  2  batch:  600 [  6000/60000]  loss: 0.05455573  accuracy:  97.557%\n",
            "epoch:  3  batch:  600 [  6000/60000]  loss: 0.08201248  accuracy:  98.157%\n",
            "epoch:  4  batch:  600 [  6000/60000]  loss: 0.03760261  accuracy:  98.417%\n",
            "epoch:  5  batch:  600 [  6000/60000]  loss: 0.02540645  accuracy:  98.647%\n",
            "epoch:  6  batch:  600 [  6000/60000]  loss: 0.03791940  accuracy:  98.772%\n",
            "epoch:  7  batch:  600 [  6000/60000]  loss: 0.00339418  accuracy:  98.950%\n",
            "\n",
            "Duration: 133 seconds\n"
          ]
        }
      ]
    },
    {
      "cell_type": "code",
      "metadata": {
        "colab": {
          "base_uri": "https://localhost:8080/",
          "height": 452
        },
        "id": "NhLteG28XimJ",
        "outputId": "5c7bb92a-2665-4ffb-c6f2-97f5e01e59c5"
      },
      "source": [
        "plt.plot(train_losses, label='training loss')\n",
        "plt.plot(test_losses, label='validation loss')\n",
        "plt.title('Loss at the end of each epoch')\n",
        "plt.legend();"
      ],
      "execution_count": 45,
      "outputs": [
        {
          "output_type": "display_data",
          "data": {
            "text/plain": [
              "<Figure size 640x480 with 1 Axes>"
            ],
            "image/png": "[encoded data removed]"
          },
          "metadata": {}
        }
      ]
    },
    {
      "cell_type": "code",
      "metadata": {
        "colab": {
          "base_uri": "https://localhost:8080/"
        },
        "id": "GG7jeS0eXlUX",
        "outputId": "e5d8723d-0bd4-4c5c-e01c-3ef74edc6ad6"
      },
      "source": [
        "print(f'Test accuracy: {test_correct[-1].item()*100/10000:.3f}%') # print the most recent result as a percent"
      ],
      "execution_count": 46,
      "outputs": [
        {
          "output_type": "stream",
          "name": "stdout",
          "text": [
            "Test accuracy: 98.280%\n"
          ]
        }
      ]
    }
  ]
}